{
 "cells": [
  {
   "cell_type": "markdown",
   "metadata": {},
   "source": [
    "# Notas - Preguntas - Otros\n"
   ]
  },
  {
   "cell_type": "markdown",
   "metadata": {},
   "source": [
    "* Tenemos valores nulos en la columna yearweek tabla prices, los cuales corresponden aproximadamente al 0,45%. ¿Los eliminamos?. Recordar que esta es la columna que utilizaremos como llave.\n",
    "\n",
    "* Pendientes: Unir el yearweek que habiamos separados"
   ]
  }
 ],
 "metadata": {
  "language_info": {
   "name": "python"
  }
 },
 "nbformat": 4,
 "nbformat_minor": 2
}
